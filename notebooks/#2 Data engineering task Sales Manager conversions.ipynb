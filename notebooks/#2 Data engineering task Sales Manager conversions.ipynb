{
 "cells": [
  {
   "cell_type": "markdown",
   "id": "76ba7011",
   "metadata": {},
   "source": [
    "# Sales Manager conversions"
   ]
  },
  {
   "cell_type": "markdown",
   "id": "486d2446",
   "metadata": {},
   "source": [
    "We need to calculate conversion rate from touch to deal and understand who is the best salesman."
   ]
  },
  {
   "cell_type": "code",
   "execution_count": 435,
   "id": "48a43369",
   "metadata": {},
   "outputs": [],
   "source": [
    "import pandas as pd\n",
    "import numpy as np\n",
    "import matplotlib.pyplot as plt\n",
    "import seaborn as sns"
   ]
  },
  {
   "cell_type": "markdown",
   "id": "e09c7e89",
   "metadata": {},
   "source": [
    "This is the first part of the conversion calculation, which in my opinion is not entirely correct."
   ]
  },
  {
   "cell_type": "code",
   "execution_count": 2,
   "id": "d5440e17",
   "metadata": {},
   "outputs": [
    {
     "data": {
      "text/html": [
       "<div>\n",
       "<style scoped>\n",
       "    .dataframe tbody tr th:only-of-type {\n",
       "        vertical-align: middle;\n",
       "    }\n",
       "\n",
       "    .dataframe tbody tr th {\n",
       "        vertical-align: top;\n",
       "    }\n",
       "\n",
       "    .dataframe thead th {\n",
       "        text-align: right;\n",
       "    }\n",
       "</style>\n",
       "<table border=\"1\" class=\"dataframe\">\n",
       "  <thead>\n",
       "    <tr style=\"text-align: right;\">\n",
       "      <th></th>\n",
       "      <th>client_account_id</th>\n",
       "      <th>date</th>\n",
       "      <th>event_name</th>\n",
       "      <th>manager_id</th>\n",
       "      <th>manager_nickname</th>\n",
       "    </tr>\n",
       "  </thead>\n",
       "  <tbody>\n",
       "    <tr>\n",
       "      <th>0</th>\n",
       "      <td>0</td>\n",
       "      <td>2022-05-09</td>\n",
       "      <td>first_touch</td>\n",
       "      <td>1.0</td>\n",
       "      <td>Justin Beiber</td>\n",
       "    </tr>\n",
       "    <tr>\n",
       "      <th>1</th>\n",
       "      <td>1</td>\n",
       "      <td>2022-03-21</td>\n",
       "      <td>first_touch</td>\n",
       "      <td>3.0</td>\n",
       "      <td>Joe Biden</td>\n",
       "    </tr>\n",
       "    <tr>\n",
       "      <th>2</th>\n",
       "      <td>2</td>\n",
       "      <td>2022-04-18</td>\n",
       "      <td>first_touch</td>\n",
       "      <td>2.0</td>\n",
       "      <td>Kylie Jenner</td>\n",
       "    </tr>\n",
       "    <tr>\n",
       "      <th>3</th>\n",
       "      <td>3</td>\n",
       "      <td>2022-02-07</td>\n",
       "      <td>first_touch</td>\n",
       "      <td>2.0</td>\n",
       "      <td>Kylie Jenner</td>\n",
       "    </tr>\n",
       "    <tr>\n",
       "      <th>4</th>\n",
       "      <td>4</td>\n",
       "      <td>2022-04-08</td>\n",
       "      <td>first_touch</td>\n",
       "      <td>1.0</td>\n",
       "      <td>Justin Beiber</td>\n",
       "    </tr>\n",
       "  </tbody>\n",
       "</table>\n",
       "</div>"
      ],
      "text/plain": [
       "   client_account_id        date   event_name  manager_id manager_nickname\n",
       "0                  0  2022-05-09  first_touch         1.0    Justin Beiber\n",
       "1                  1  2022-03-21  first_touch         3.0        Joe Biden\n",
       "2                  2  2022-04-18  first_touch         2.0     Kylie Jenner\n",
       "3                  3  2022-02-07  first_touch         2.0     Kylie Jenner\n",
       "4                  4  2022-04-08  first_touch         1.0    Justin Beiber"
      ]
     },
     "metadata": {},
     "output_type": "display_data"
    },
    {
     "name": "stdout",
     "output_type": "stream",
     "text": [
      "(3183, 5)\n"
     ]
    }
   ],
   "source": [
    "df = pd.read_csv('../data/best_salesman_homework.csv')\n",
    "display(df.head())\n",
    "print(df.shape)"
   ]
  },
  {
   "cell_type": "code",
   "execution_count": 336,
   "id": "a46c936a",
   "metadata": {},
   "outputs": [
    {
     "name": "stdout",
     "output_type": "stream",
     "text": [
      "<class 'pandas.core.frame.DataFrame'>\n",
      "RangeIndex: 3183 entries, 0 to 3182\n",
      "Data columns (total 6 columns):\n",
      " #   Column                       Non-Null Count  Dtype  \n",
      "---  ------                       --------------  -----  \n",
      " 0   client_account_id            3183 non-null   int64  \n",
      " 1   date                         3183 non-null   object \n",
      " 2   event_name                   3183 non-null   object \n",
      " 3   manager_id                   3183 non-null   float64\n",
      " 4   manager_nickname             3183 non-null   object \n",
      " 5   duplicate_client_account_id  3183 non-null   int64  \n",
      "dtypes: float64(1), int64(2), object(3)\n",
      "memory usage: 149.3+ KB\n"
     ]
    }
   ],
   "source": [
    "# Let's see if there are any gaps in our date frame.\n",
    "df.info()"
   ]
  },
  {
   "cell_type": "code",
   "execution_count": 4,
   "id": "2354fca9",
   "metadata": {
    "scrolled": true
   },
   "outputs": [
    {
     "data": {
      "text/html": [
       "<div>\n",
       "<style scoped>\n",
       "    .dataframe tbody tr th:only-of-type {\n",
       "        vertical-align: middle;\n",
       "    }\n",
       "\n",
       "    .dataframe tbody tr th {\n",
       "        vertical-align: top;\n",
       "    }\n",
       "\n",
       "    .dataframe thead th {\n",
       "        text-align: right;\n",
       "    }\n",
       "</style>\n",
       "<table border=\"1\" class=\"dataframe\">\n",
       "  <thead>\n",
       "    <tr style=\"text-align: right;\">\n",
       "      <th>manager_nickname</th>\n",
       "      <th>Joe Biden</th>\n",
       "      <th>Justin Beiber</th>\n",
       "      <th>Kylie Jenner</th>\n",
       "    </tr>\n",
       "    <tr>\n",
       "      <th>event_name</th>\n",
       "      <th></th>\n",
       "      <th></th>\n",
       "      <th></th>\n",
       "    </tr>\n",
       "  </thead>\n",
       "  <tbody>\n",
       "    <tr>\n",
       "      <th>deal</th>\n",
       "      <td>91</td>\n",
       "      <td>37</td>\n",
       "      <td>68</td>\n",
       "    </tr>\n",
       "    <tr>\n",
       "      <th>first_touch</th>\n",
       "      <td>1158</td>\n",
       "      <td>890</td>\n",
       "      <td>939</td>\n",
       "    </tr>\n",
       "  </tbody>\n",
       "</table>\n",
       "</div>"
      ],
      "text/plain": [
       "manager_nickname  Joe Biden  Justin Beiber  Kylie Jenner\n",
       "event_name                                              \n",
       "deal                     91             37            68\n",
       "first_touch            1158            890           939"
      ]
     },
     "execution_count": 4,
     "metadata": {},
     "output_type": "execute_result"
    }
   ],
   "source": [
    "# Pivot table by events and managers\n",
    "pd.crosstab(df['event_name'], df['manager_nickname'])"
   ]
  },
  {
   "cell_type": "code",
   "execution_count": 19,
   "id": "713c81d7",
   "metadata": {},
   "outputs": [
    {
     "data": {
      "text/plain": [
       "91"
      ]
     },
     "execution_count": 19,
     "metadata": {},
     "output_type": "execute_result"
    }
   ],
   "source": [
    "# Counting the number of deal events for manager Joe Biden\n",
    "count_deal_joe_biden = df['event_name'][(df['manager_nickname']=='Joe Biden') & (df['event_name']=='deal')].count()\n",
    "count_deal_joe_biden"
   ]
  },
  {
   "cell_type": "code",
   "execution_count": 20,
   "id": "f1e164b1",
   "metadata": {},
   "outputs": [
    {
     "data": {
      "text/plain": [
       "1158"
      ]
     },
     "execution_count": 20,
     "metadata": {},
     "output_type": "execute_result"
    }
   ],
   "source": [
    "# Counting the number of first touch events for manager Joe Biden\n",
    "count_first_touch_joe_biden = df['event_name'][(df['manager_nickname']=='Joe Biden') & (df['event_name']=='first_touch')].count()\n",
    "count_first_touch_joe_biden"
   ]
  },
  {
   "cell_type": "code",
   "execution_count": 339,
   "id": "7138d4d3",
   "metadata": {},
   "outputs": [
    {
     "data": {
      "text/plain": [
       "7.858376511226252"
      ]
     },
     "execution_count": 339,
     "metadata": {},
     "output_type": "execute_result"
    }
   ],
   "source": [
    "# Conversion manager Joe Biden \n",
    "convertion_joe_biden = (count_deal_joe_biden / count_first_touch_joe_biden)*100\n",
    "convertion_joe_biden"
   ]
  },
  {
   "cell_type": "code",
   "execution_count": 18,
   "id": "fcacf608",
   "metadata": {},
   "outputs": [
    {
     "data": {
      "text/plain": [
       "37"
      ]
     },
     "execution_count": 18,
     "metadata": {},
     "output_type": "execute_result"
    }
   ],
   "source": [
    "# Counting the number of deal events for manager Justin Beiber\n",
    "count_deal_justin_beiber = df['event_name'][(df['manager_nickname']=='Justin Beiber') & (df['event_name']=='deal')].count()\n",
    "count_deal_justin_beiber"
   ]
  },
  {
   "cell_type": "code",
   "execution_count": 21,
   "id": "6abbf11a",
   "metadata": {},
   "outputs": [
    {
     "data": {
      "text/plain": [
       "890"
      ]
     },
     "execution_count": 21,
     "metadata": {},
     "output_type": "execute_result"
    }
   ],
   "source": [
    "# Counting the number of first touch events for manager Justin Beiber\n",
    "count_first_touch_justin_beiber = df['event_name'][(df['manager_nickname']=='Justin Beiber') & (df['event_name']=='first_touch')].count()\n",
    "count_first_touch_justin_beiber"
   ]
  },
  {
   "cell_type": "code",
   "execution_count": 338,
   "id": "aee9e993",
   "metadata": {},
   "outputs": [
    {
     "data": {
      "text/plain": [
       "4.157303370786517"
      ]
     },
     "execution_count": 338,
     "metadata": {},
     "output_type": "execute_result"
    }
   ],
   "source": [
    "# Conversion manager Justin Beiber\n",
    "convertion_justin_beiber = (count_deal_justin_beiber / count_first_touch_justin_beiber)*100\n",
    "convertion_justin_beiber"
   ]
  },
  {
   "cell_type": "code",
   "execution_count": 23,
   "id": "65592497",
   "metadata": {},
   "outputs": [
    {
     "data": {
      "text/plain": [
       "68"
      ]
     },
     "execution_count": 23,
     "metadata": {},
     "output_type": "execute_result"
    }
   ],
   "source": [
    "# Counting the number of deal events for manager Kylie Jenner\n",
    "count_deal_kylie_jenner = df['event_name'][(df['manager_nickname']=='Kylie Jenner') & (df['event_name']=='deal')].count()\n",
    "count_deal_kylie_jenner"
   ]
  },
  {
   "cell_type": "code",
   "execution_count": 24,
   "id": "aaab2fd2",
   "metadata": {},
   "outputs": [
    {
     "data": {
      "text/plain": [
       "939"
      ]
     },
     "execution_count": 24,
     "metadata": {},
     "output_type": "execute_result"
    }
   ],
   "source": [
    "# Counting the number of first touch events for manager Kylie Jenner\n",
    "count_first_touch_kylie_jenner = df['event_name'][(df['manager_nickname']=='Kylie Jenner') & (df['event_name']=='first_touch')].count()\n",
    "count_first_touch_kylie_jenner"
   ]
  },
  {
   "cell_type": "code",
   "execution_count": 337,
   "id": "90cb881d",
   "metadata": {},
   "outputs": [
    {
     "data": {
      "text/plain": [
       "7.24174653887114"
      ]
     },
     "execution_count": 337,
     "metadata": {},
     "output_type": "execute_result"
    }
   ],
   "source": [
    "# Conversion manager Kylie Jenner\n",
    "convertion_kylie_jenner = (count_deal_kylie_jenner / count_first_touch_kylie_jenner)*100\n",
    "convertion_kylie_jenner"
   ]
  },
  {
   "cell_type": "markdown",
   "id": "9fc2000b",
   "metadata": {},
   "source": [
    "Conclusion: Joe Biden has the highest conversion, it is equal to 7.86%. But further I calculated the conversion more correctly, in my opinion."
   ]
  },
  {
   "cell_type": "markdown",
   "id": "10f89bbb",
   "metadata": {},
   "source": [
    "# This is the second part of the calculations, where I try to correctly calculate the conversion"
   ]
  },
  {
   "cell_type": "code",
   "execution_count": 286,
   "id": "a43066ce",
   "metadata": {},
   "outputs": [],
   "source": [
    "# I put the units in a separate column to mark the id of clients that appear in the table more than once.\n",
    "df['duplicate_client_account_id'] = pd.factorize(df['client_account_id'].duplicated())[0]"
   ]
  },
  {
   "cell_type": "code",
   "execution_count": 287,
   "id": "d4b9617a",
   "metadata": {},
   "outputs": [],
   "source": [
    "# Created a list with id's that appear more than once\n",
    "purchase_id_list = list(df['client_account_id'][df['duplicate_client_account_id']==1])"
   ]
  },
  {
   "cell_type": "code",
   "execution_count": 340,
   "id": "2beed63f",
   "metadata": {},
   "outputs": [
    {
     "data": {
      "text/html": [
       "<div>\n",
       "<style scoped>\n",
       "    .dataframe tbody tr th:only-of-type {\n",
       "        vertical-align: middle;\n",
       "    }\n",
       "\n",
       "    .dataframe tbody tr th {\n",
       "        vertical-align: top;\n",
       "    }\n",
       "\n",
       "    .dataframe thead th {\n",
       "        text-align: right;\n",
       "    }\n",
       "</style>\n",
       "<table border=\"1\" class=\"dataframe\">\n",
       "  <thead>\n",
       "    <tr style=\"text-align: right;\">\n",
       "      <th></th>\n",
       "      <th>client_account_id</th>\n",
       "      <th>date</th>\n",
       "      <th>event_name</th>\n",
       "      <th>manager_id</th>\n",
       "      <th>manager_nickname</th>\n",
       "      <th>duplicate_client_account_id</th>\n",
       "    </tr>\n",
       "  </thead>\n",
       "  <tbody>\n",
       "    <tr>\n",
       "      <th>40</th>\n",
       "      <td>40</td>\n",
       "      <td>2022-05-02</td>\n",
       "      <td>first_touch</td>\n",
       "      <td>1.0</td>\n",
       "      <td>Justin Beiber</td>\n",
       "      <td>0</td>\n",
       "    </tr>\n",
       "    <tr>\n",
       "      <th>41</th>\n",
       "      <td>40</td>\n",
       "      <td>2022-02-24</td>\n",
       "      <td>deal</td>\n",
       "      <td>3.0</td>\n",
       "      <td>Joe Biden</td>\n",
       "      <td>1</td>\n",
       "    </tr>\n",
       "    <tr>\n",
       "      <th>64</th>\n",
       "      <td>63</td>\n",
       "      <td>2022-02-03</td>\n",
       "      <td>first_touch</td>\n",
       "      <td>1.0</td>\n",
       "      <td>Justin Beiber</td>\n",
       "      <td>0</td>\n",
       "    </tr>\n",
       "    <tr>\n",
       "      <th>65</th>\n",
       "      <td>63</td>\n",
       "      <td>2022-03-14</td>\n",
       "      <td>deal</td>\n",
       "      <td>2.0</td>\n",
       "      <td>Kylie Jenner</td>\n",
       "      <td>1</td>\n",
       "    </tr>\n",
       "    <tr>\n",
       "      <th>88</th>\n",
       "      <td>86</td>\n",
       "      <td>2021-12-17</td>\n",
       "      <td>first_touch</td>\n",
       "      <td>3.0</td>\n",
       "      <td>Joe Biden</td>\n",
       "      <td>0</td>\n",
       "    </tr>\n",
       "    <tr>\n",
       "      <th>...</th>\n",
       "      <td>...</td>\n",
       "      <td>...</td>\n",
       "      <td>...</td>\n",
       "      <td>...</td>\n",
       "      <td>...</td>\n",
       "      <td>...</td>\n",
       "    </tr>\n",
       "    <tr>\n",
       "      <th>3050</th>\n",
       "      <td>2856</td>\n",
       "      <td>2021-12-01</td>\n",
       "      <td>deal</td>\n",
       "      <td>2.0</td>\n",
       "      <td>Kylie Jenner</td>\n",
       "      <td>1</td>\n",
       "    </tr>\n",
       "    <tr>\n",
       "      <th>3079</th>\n",
       "      <td>2885</td>\n",
       "      <td>2021-10-21</td>\n",
       "      <td>first_touch</td>\n",
       "      <td>2.0</td>\n",
       "      <td>Kylie Jenner</td>\n",
       "      <td>0</td>\n",
       "    </tr>\n",
       "    <tr>\n",
       "      <th>3080</th>\n",
       "      <td>2885</td>\n",
       "      <td>2022-04-20</td>\n",
       "      <td>deal</td>\n",
       "      <td>3.0</td>\n",
       "      <td>Joe Biden</td>\n",
       "      <td>1</td>\n",
       "    </tr>\n",
       "    <tr>\n",
       "      <th>3091</th>\n",
       "      <td>2896</td>\n",
       "      <td>2022-01-07</td>\n",
       "      <td>first_touch</td>\n",
       "      <td>3.0</td>\n",
       "      <td>Joe Biden</td>\n",
       "      <td>0</td>\n",
       "    </tr>\n",
       "    <tr>\n",
       "      <th>3092</th>\n",
       "      <td>2896</td>\n",
       "      <td>2022-02-25</td>\n",
       "      <td>deal</td>\n",
       "      <td>2.0</td>\n",
       "      <td>Kylie Jenner</td>\n",
       "      <td>1</td>\n",
       "    </tr>\n",
       "  </tbody>\n",
       "</table>\n",
       "<p>392 rows × 6 columns</p>\n",
       "</div>"
      ],
      "text/plain": [
       "      client_account_id        date   event_name  manager_id manager_nickname  \\\n",
       "40                   40  2022-05-02  first_touch         1.0    Justin Beiber   \n",
       "41                   40  2022-02-24         deal         3.0        Joe Biden   \n",
       "64                   63  2022-02-03  first_touch         1.0    Justin Beiber   \n",
       "65                   63  2022-03-14         deal         2.0     Kylie Jenner   \n",
       "88                   86  2021-12-17  first_touch         3.0        Joe Biden   \n",
       "...                 ...         ...          ...         ...              ...   \n",
       "3050               2856  2021-12-01         deal         2.0     Kylie Jenner   \n",
       "3079               2885  2021-10-21  first_touch         2.0     Kylie Jenner   \n",
       "3080               2885  2022-04-20         deal         3.0        Joe Biden   \n",
       "3091               2896  2022-01-07  first_touch         3.0        Joe Biden   \n",
       "3092               2896  2022-02-25         deal         2.0     Kylie Jenner   \n",
       "\n",
       "      duplicate_client_account_id  \n",
       "40                              0  \n",
       "41                              1  \n",
       "64                              0  \n",
       "65                              1  \n",
       "88                              0  \n",
       "...                           ...  \n",
       "3050                            1  \n",
       "3079                            0  \n",
       "3080                            1  \n",
       "3091                            0  \n",
       "3092                            1  \n",
       "\n",
       "[392 rows x 6 columns]"
      ]
     },
     "execution_count": 340,
     "metadata": {},
     "output_type": "execute_result"
    }
   ],
   "source": [
    "# Let's see all the events and managers of these clients\n",
    "purchase_id_df = df[df[\"client_account_id\"].isin(purchase_id_list)]\n",
    "purchase_id_df"
   ]
  },
  {
   "cell_type": "code",
   "execution_count": 292,
   "id": "15adc77b",
   "metadata": {
    "scrolled": true
   },
   "outputs": [
    {
     "data": {
      "text/html": [
       "<div>\n",
       "<style scoped>\n",
       "    .dataframe tbody tr th:only-of-type {\n",
       "        vertical-align: middle;\n",
       "    }\n",
       "\n",
       "    .dataframe tbody tr th {\n",
       "        vertical-align: top;\n",
       "    }\n",
       "\n",
       "    .dataframe thead th {\n",
       "        text-align: right;\n",
       "    }\n",
       "</style>\n",
       "<table border=\"1\" class=\"dataframe\">\n",
       "  <thead>\n",
       "    <tr style=\"text-align: right;\">\n",
       "      <th></th>\n",
       "      <th>client_account_id</th>\n",
       "      <th>date</th>\n",
       "      <th>event_name</th>\n",
       "      <th>manager_id</th>\n",
       "      <th>manager_nickname</th>\n",
       "      <th>duplicate_client_account_id</th>\n",
       "    </tr>\n",
       "  </thead>\n",
       "  <tbody>\n",
       "    <tr>\n",
       "      <th>41</th>\n",
       "      <td>40</td>\n",
       "      <td>2022-02-24</td>\n",
       "      <td>deal</td>\n",
       "      <td>3.0</td>\n",
       "      <td>Joe Biden</td>\n",
       "      <td>1</td>\n",
       "    </tr>\n",
       "    <tr>\n",
       "      <th>40</th>\n",
       "      <td>40</td>\n",
       "      <td>2022-05-02</td>\n",
       "      <td>first_touch</td>\n",
       "      <td>1.0</td>\n",
       "      <td>Justin Beiber</td>\n",
       "      <td>0</td>\n",
       "    </tr>\n",
       "    <tr>\n",
       "      <th>64</th>\n",
       "      <td>63</td>\n",
       "      <td>2022-02-03</td>\n",
       "      <td>first_touch</td>\n",
       "      <td>1.0</td>\n",
       "      <td>Justin Beiber</td>\n",
       "      <td>0</td>\n",
       "    </tr>\n",
       "    <tr>\n",
       "      <th>65</th>\n",
       "      <td>63</td>\n",
       "      <td>2022-03-14</td>\n",
       "      <td>deal</td>\n",
       "      <td>2.0</td>\n",
       "      <td>Kylie Jenner</td>\n",
       "      <td>1</td>\n",
       "    </tr>\n",
       "    <tr>\n",
       "      <th>88</th>\n",
       "      <td>86</td>\n",
       "      <td>2021-12-17</td>\n",
       "      <td>first_touch</td>\n",
       "      <td>3.0</td>\n",
       "      <td>Joe Biden</td>\n",
       "      <td>0</td>\n",
       "    </tr>\n",
       "    <tr>\n",
       "      <th>...</th>\n",
       "      <td>...</td>\n",
       "      <td>...</td>\n",
       "      <td>...</td>\n",
       "      <td>...</td>\n",
       "      <td>...</td>\n",
       "      <td>...</td>\n",
       "    </tr>\n",
       "    <tr>\n",
       "      <th>3049</th>\n",
       "      <td>2856</td>\n",
       "      <td>2022-05-30</td>\n",
       "      <td>first_touch</td>\n",
       "      <td>3.0</td>\n",
       "      <td>Joe Biden</td>\n",
       "      <td>0</td>\n",
       "    </tr>\n",
       "    <tr>\n",
       "      <th>3079</th>\n",
       "      <td>2885</td>\n",
       "      <td>2021-10-21</td>\n",
       "      <td>first_touch</td>\n",
       "      <td>2.0</td>\n",
       "      <td>Kylie Jenner</td>\n",
       "      <td>0</td>\n",
       "    </tr>\n",
       "    <tr>\n",
       "      <th>3080</th>\n",
       "      <td>2885</td>\n",
       "      <td>2022-04-20</td>\n",
       "      <td>deal</td>\n",
       "      <td>3.0</td>\n",
       "      <td>Joe Biden</td>\n",
       "      <td>1</td>\n",
       "    </tr>\n",
       "    <tr>\n",
       "      <th>3091</th>\n",
       "      <td>2896</td>\n",
       "      <td>2022-01-07</td>\n",
       "      <td>first_touch</td>\n",
       "      <td>3.0</td>\n",
       "      <td>Joe Biden</td>\n",
       "      <td>0</td>\n",
       "    </tr>\n",
       "    <tr>\n",
       "      <th>3092</th>\n",
       "      <td>2896</td>\n",
       "      <td>2022-02-25</td>\n",
       "      <td>deal</td>\n",
       "      <td>2.0</td>\n",
       "      <td>Kylie Jenner</td>\n",
       "      <td>1</td>\n",
       "    </tr>\n",
       "  </tbody>\n",
       "</table>\n",
       "<p>392 rows × 6 columns</p>\n",
       "</div>"
      ],
      "text/plain": [
       "      client_account_id        date   event_name  manager_id manager_nickname  \\\n",
       "41                   40  2022-02-24         deal         3.0        Joe Biden   \n",
       "40                   40  2022-05-02  first_touch         1.0    Justin Beiber   \n",
       "64                   63  2022-02-03  first_touch         1.0    Justin Beiber   \n",
       "65                   63  2022-03-14         deal         2.0     Kylie Jenner   \n",
       "88                   86  2021-12-17  first_touch         3.0        Joe Biden   \n",
       "...                 ...         ...          ...         ...              ...   \n",
       "3049               2856  2022-05-30  first_touch         3.0        Joe Biden   \n",
       "3079               2885  2021-10-21  first_touch         2.0     Kylie Jenner   \n",
       "3080               2885  2022-04-20         deal         3.0        Joe Biden   \n",
       "3091               2896  2022-01-07  first_touch         3.0        Joe Biden   \n",
       "3092               2896  2022-02-25         deal         2.0     Kylie Jenner   \n",
       "\n",
       "      duplicate_client_account_id  \n",
       "41                              1  \n",
       "40                              0  \n",
       "64                              0  \n",
       "65                              1  \n",
       "88                              0  \n",
       "...                           ...  \n",
       "3049                            0  \n",
       "3079                            0  \n",
       "3080                            1  \n",
       "3091                            0  \n",
       "3092                            1  \n",
       "\n",
       "[392 rows x 6 columns]"
      ]
     },
     "execution_count": 292,
     "metadata": {},
     "output_type": "execute_result"
    }
   ],
   "source": [
    "# Sort by client account id and date\n",
    "# We see that there are cases when first_touch and deal belong to different managers,\n",
    "# And we have a task to calculate the conversion from first touch to deal for each manager\n",
    "purchase_id_df.sort_values(['client_account_id', 'date'])"
   ]
  },
  {
   "cell_type": "code",
   "execution_count": 294,
   "id": "0af92d4b",
   "metadata": {
    "scrolled": false
   },
   "outputs": [
    {
     "data": {
      "text/plain": [
       "client_account_id  manager_nickname\n",
       "40                 Joe Biden           1\n",
       "                   Justin Beiber       1\n",
       "63                 Justin Beiber       1\n",
       "                   Kylie Jenner        1\n",
       "86                 Joe Biden           1\n",
       "                   Justin Beiber       1\n",
       "87                 Justin Beiber       1\n",
       "                   Kylie Jenner        1\n",
       "127                Joe Biden           1\n",
       "                   Justin Beiber       1\n",
       "134                Joe Biden           1\n",
       "                   Justin Beiber       1\n",
       "135                Joe Biden           1\n",
       "                   Kylie Jenner        1\n",
       "136                Justin Beiber       2\n",
       "138                Joe Biden           1\n",
       "                   Justin Beiber       1\n",
       "145                Joe Biden           1\n",
       "Name: client_account_id, dtype: int64"
      ]
     },
     "execution_count": 294,
     "metadata": {},
     "output_type": "execute_result"
    }
   ],
   "source": [
    "# Using grouping, we can see where both events belong to the same manager (in the third column, the numbers '2')\n",
    "match_clinte_manager = purchase_id_df.groupby(['client_account_id','manager_nickname'])['client_account_id'].count()\n",
    "match_clinte_manager.head(18)"
   ]
  },
  {
   "cell_type": "code",
   "execution_count": 410,
   "id": "5bc04a66",
   "metadata": {
    "scrolled": false
   },
   "outputs": [
    {
     "data": {
      "text/plain": [
       "client_account_id  manager_nickname\n",
       "136                Justin Beiber       2\n",
       "176                Joe Biden           2\n",
       "220                Kylie Jenner        2\n",
       "259                Joe Biden           2\n",
       "315                Justin Beiber       2\n",
       "                                      ..\n",
       "2738               Joe Biden           2\n",
       "2751               Joe Biden           2\n",
       "2781               Kylie Jenner        2\n",
       "2789               Justin Beiber       2\n",
       "2849               Joe Biden           2\n",
       "Name: client_account_id, Length: 65, dtype: int64"
      ]
     },
     "execution_count": 410,
     "metadata": {},
     "output_type": "execute_result"
    }
   ],
   "source": [
    "# We are only interested in cases where both first_touch and deal belong to the same manager\n",
    "touch_to_deal_managers = match_clinte_manager[match_clinte_manager > 1]\n",
    "touch_to_deal_managers"
   ]
  },
  {
   "cell_type": "code",
   "execution_count": 411,
   "id": "8598848a",
   "metadata": {
    "scrolled": true
   },
   "outputs": [],
   "source": [
    "# Revert From MultiIndex to Single Index \n",
    "touch_to_deal_managers = touch_to_deal_managers.reset_index(['manager_nickname'])"
   ]
  },
  {
   "cell_type": "code",
   "execution_count": 415,
   "id": "b09b27db",
   "metadata": {},
   "outputs": [],
   "source": [
    "# Let's create a list with client_account_id values to display all the data of exactly those clients\n",
    "# with whom in first_touch and in deal one manager worked \n",
    "touch_to_deal_managers_clints_list = list(touch_to_deal_managers.index.values)"
   ]
  },
  {
   "cell_type": "code",
   "execution_count": 416,
   "id": "fe28742d",
   "metadata": {},
   "outputs": [
    {
     "data": {
      "text/html": [
       "<div>\n",
       "<style scoped>\n",
       "    .dataframe tbody tr th:only-of-type {\n",
       "        vertical-align: middle;\n",
       "    }\n",
       "\n",
       "    .dataframe tbody tr th {\n",
       "        vertical-align: top;\n",
       "    }\n",
       "\n",
       "    .dataframe thead th {\n",
       "        text-align: right;\n",
       "    }\n",
       "</style>\n",
       "<table border=\"1\" class=\"dataframe\">\n",
       "  <thead>\n",
       "    <tr style=\"text-align: right;\">\n",
       "      <th></th>\n",
       "      <th>client_account_id</th>\n",
       "      <th>date</th>\n",
       "      <th>event_name</th>\n",
       "      <th>manager_id</th>\n",
       "      <th>manager_nickname</th>\n",
       "      <th>duplicate_client_account_id</th>\n",
       "    </tr>\n",
       "  </thead>\n",
       "  <tbody>\n",
       "    <tr>\n",
       "      <th>143</th>\n",
       "      <td>136</td>\n",
       "      <td>2022-03-09</td>\n",
       "      <td>first_touch</td>\n",
       "      <td>1.0</td>\n",
       "      <td>Justin Beiber</td>\n",
       "      <td>0</td>\n",
       "    </tr>\n",
       "    <tr>\n",
       "      <th>144</th>\n",
       "      <td>136</td>\n",
       "      <td>2022-04-29</td>\n",
       "      <td>deal</td>\n",
       "      <td>1.0</td>\n",
       "      <td>Justin Beiber</td>\n",
       "      <td>1</td>\n",
       "    </tr>\n",
       "    <tr>\n",
       "      <th>186</th>\n",
       "      <td>176</td>\n",
       "      <td>2021-08-31</td>\n",
       "      <td>first_touch</td>\n",
       "      <td>3.0</td>\n",
       "      <td>Joe Biden</td>\n",
       "      <td>0</td>\n",
       "    </tr>\n",
       "    <tr>\n",
       "      <th>187</th>\n",
       "      <td>176</td>\n",
       "      <td>2021-09-04</td>\n",
       "      <td>deal</td>\n",
       "      <td>3.0</td>\n",
       "      <td>Joe Biden</td>\n",
       "      <td>1</td>\n",
       "    </tr>\n",
       "    <tr>\n",
       "      <th>233</th>\n",
       "      <td>220</td>\n",
       "      <td>2022-03-04</td>\n",
       "      <td>first_touch</td>\n",
       "      <td>2.0</td>\n",
       "      <td>Kylie Jenner</td>\n",
       "      <td>0</td>\n",
       "    </tr>\n",
       "    <tr>\n",
       "      <th>...</th>\n",
       "      <td>...</td>\n",
       "      <td>...</td>\n",
       "      <td>...</td>\n",
       "      <td>...</td>\n",
       "      <td>...</td>\n",
       "      <td>...</td>\n",
       "    </tr>\n",
       "    <tr>\n",
       "      <th>2970</th>\n",
       "      <td>2781</td>\n",
       "      <td>2021-12-25</td>\n",
       "      <td>deal</td>\n",
       "      <td>2.0</td>\n",
       "      <td>Kylie Jenner</td>\n",
       "      <td>1</td>\n",
       "    </tr>\n",
       "    <tr>\n",
       "      <th>2979</th>\n",
       "      <td>2789</td>\n",
       "      <td>2022-03-31</td>\n",
       "      <td>first_touch</td>\n",
       "      <td>1.0</td>\n",
       "      <td>Justin Beiber</td>\n",
       "      <td>0</td>\n",
       "    </tr>\n",
       "    <tr>\n",
       "      <th>2980</th>\n",
       "      <td>2789</td>\n",
       "      <td>2022-05-30</td>\n",
       "      <td>deal</td>\n",
       "      <td>1.0</td>\n",
       "      <td>Justin Beiber</td>\n",
       "      <td>1</td>\n",
       "    </tr>\n",
       "    <tr>\n",
       "      <th>3041</th>\n",
       "      <td>2849</td>\n",
       "      <td>2022-04-02</td>\n",
       "      <td>first_touch</td>\n",
       "      <td>3.0</td>\n",
       "      <td>Joe Biden</td>\n",
       "      <td>0</td>\n",
       "    </tr>\n",
       "    <tr>\n",
       "      <th>3042</th>\n",
       "      <td>2849</td>\n",
       "      <td>2022-01-03</td>\n",
       "      <td>deal</td>\n",
       "      <td>3.0</td>\n",
       "      <td>Joe Biden</td>\n",
       "      <td>1</td>\n",
       "    </tr>\n",
       "  </tbody>\n",
       "</table>\n",
       "<p>130 rows × 6 columns</p>\n",
       "</div>"
      ],
      "text/plain": [
       "      client_account_id        date   event_name  manager_id manager_nickname  \\\n",
       "143                 136  2022-03-09  first_touch         1.0    Justin Beiber   \n",
       "144                 136  2022-04-29         deal         1.0    Justin Beiber   \n",
       "186                 176  2021-08-31  first_touch         3.0        Joe Biden   \n",
       "187                 176  2021-09-04         deal         3.0        Joe Biden   \n",
       "233                 220  2022-03-04  first_touch         2.0     Kylie Jenner   \n",
       "...                 ...         ...          ...         ...              ...   \n",
       "2970               2781  2021-12-25         deal         2.0     Kylie Jenner   \n",
       "2979               2789  2022-03-31  first_touch         1.0    Justin Beiber   \n",
       "2980               2789  2022-05-30         deal         1.0    Justin Beiber   \n",
       "3041               2849  2022-04-02  first_touch         3.0        Joe Biden   \n",
       "3042               2849  2022-01-03         deal         3.0        Joe Biden   \n",
       "\n",
       "      duplicate_client_account_id  \n",
       "143                             0  \n",
       "144                             1  \n",
       "186                             0  \n",
       "187                             1  \n",
       "233                             0  \n",
       "...                           ...  \n",
       "2970                            1  \n",
       "2979                            0  \n",
       "2980                            1  \n",
       "3041                            0  \n",
       "3042                            1  \n",
       "\n",
       "[130 rows x 6 columns]"
      ]
     },
     "execution_count": 416,
     "metadata": {},
     "output_type": "execute_result"
    }
   ],
   "source": [
    "# Let's look at our data. We see that there are cases when a deal happened earlier than first_touch with the same client\n",
    "# And according to our task, we need to find exactly the conversion from first_touch to deal\n",
    "df_managers_clints = purchase_id_df[purchase_id_df['client_account_id'].isin(touch_to_deal_managers_clints_list)]\n",
    "df_managers_clints"
   ]
  },
  {
   "cell_type": "code",
   "execution_count": 417,
   "id": "8d2acad5",
   "metadata": {},
   "outputs": [
    {
     "data": {
      "text/html": [
       "<div>\n",
       "<style scoped>\n",
       "    .dataframe tbody tr th:only-of-type {\n",
       "        vertical-align: middle;\n",
       "    }\n",
       "\n",
       "    .dataframe tbody tr th {\n",
       "        vertical-align: top;\n",
       "    }\n",
       "\n",
       "    .dataframe thead th {\n",
       "        text-align: right;\n",
       "    }\n",
       "</style>\n",
       "<table border=\"1\" class=\"dataframe\">\n",
       "  <thead>\n",
       "    <tr style=\"text-align: right;\">\n",
       "      <th></th>\n",
       "      <th>client_account_id</th>\n",
       "      <th>date</th>\n",
       "      <th>event_name</th>\n",
       "      <th>manager_id</th>\n",
       "      <th>manager_nickname</th>\n",
       "      <th>duplicate_client_account_id</th>\n",
       "    </tr>\n",
       "  </thead>\n",
       "  <tbody>\n",
       "    <tr>\n",
       "      <th>1725</th>\n",
       "      <td>1617</td>\n",
       "      <td>2021-05-23</td>\n",
       "      <td>first_touch</td>\n",
       "      <td>3.0</td>\n",
       "      <td>Joe Biden</td>\n",
       "      <td>0</td>\n",
       "    </tr>\n",
       "    <tr>\n",
       "      <th>2537</th>\n",
       "      <td>2386</td>\n",
       "      <td>2021-06-07</td>\n",
       "      <td>first_touch</td>\n",
       "      <td>3.0</td>\n",
       "      <td>Joe Biden</td>\n",
       "      <td>0</td>\n",
       "    </tr>\n",
       "    <tr>\n",
       "      <th>1084</th>\n",
       "      <td>1021</td>\n",
       "      <td>2021-06-09</td>\n",
       "      <td>first_touch</td>\n",
       "      <td>3.0</td>\n",
       "      <td>Joe Biden</td>\n",
       "      <td>0</td>\n",
       "    </tr>\n",
       "    <tr>\n",
       "      <th>2634</th>\n",
       "      <td>2474</td>\n",
       "      <td>2021-06-12</td>\n",
       "      <td>first_touch</td>\n",
       "      <td>3.0</td>\n",
       "      <td>Joe Biden</td>\n",
       "      <td>0</td>\n",
       "    </tr>\n",
       "    <tr>\n",
       "      <th>1955</th>\n",
       "      <td>1841</td>\n",
       "      <td>2021-06-28</td>\n",
       "      <td>first_touch</td>\n",
       "      <td>3.0</td>\n",
       "      <td>Joe Biden</td>\n",
       "      <td>0</td>\n",
       "    </tr>\n",
       "    <tr>\n",
       "      <th>...</th>\n",
       "      <td>...</td>\n",
       "      <td>...</td>\n",
       "      <td>...</td>\n",
       "      <td>...</td>\n",
       "      <td>...</td>\n",
       "      <td>...</td>\n",
       "    </tr>\n",
       "    <tr>\n",
       "      <th>842</th>\n",
       "      <td>797</td>\n",
       "      <td>2022-05-25</td>\n",
       "      <td>first_touch</td>\n",
       "      <td>2.0</td>\n",
       "      <td>Kylie Jenner</td>\n",
       "      <td>0</td>\n",
       "    </tr>\n",
       "    <tr>\n",
       "      <th>493</th>\n",
       "      <td>467</td>\n",
       "      <td>2022-05-27</td>\n",
       "      <td>deal</td>\n",
       "      <td>1.0</td>\n",
       "      <td>Justin Beiber</td>\n",
       "      <td>1</td>\n",
       "    </tr>\n",
       "    <tr>\n",
       "      <th>1098</th>\n",
       "      <td>1032</td>\n",
       "      <td>2022-05-30</td>\n",
       "      <td>deal</td>\n",
       "      <td>1.0</td>\n",
       "      <td>Justin Beiber</td>\n",
       "      <td>1</td>\n",
       "    </tr>\n",
       "    <tr>\n",
       "      <th>2980</th>\n",
       "      <td>2789</td>\n",
       "      <td>2022-05-30</td>\n",
       "      <td>deal</td>\n",
       "      <td>1.0</td>\n",
       "      <td>Justin Beiber</td>\n",
       "      <td>1</td>\n",
       "    </tr>\n",
       "    <tr>\n",
       "      <th>1413</th>\n",
       "      <td>1325</td>\n",
       "      <td>2022-06-02</td>\n",
       "      <td>deal</td>\n",
       "      <td>3.0</td>\n",
       "      <td>Joe Biden</td>\n",
       "      <td>1</td>\n",
       "    </tr>\n",
       "  </tbody>\n",
       "</table>\n",
       "<p>130 rows × 6 columns</p>\n",
       "</div>"
      ],
      "text/plain": [
       "      client_account_id        date   event_name  manager_id manager_nickname  \\\n",
       "1725               1617  2021-05-23  first_touch         3.0        Joe Biden   \n",
       "2537               2386  2021-06-07  first_touch         3.0        Joe Biden   \n",
       "1084               1021  2021-06-09  first_touch         3.0        Joe Biden   \n",
       "2634               2474  2021-06-12  first_touch         3.0        Joe Biden   \n",
       "1955               1841  2021-06-28  first_touch         3.0        Joe Biden   \n",
       "...                 ...         ...          ...         ...              ...   \n",
       "842                 797  2022-05-25  first_touch         2.0     Kylie Jenner   \n",
       "493                 467  2022-05-27         deal         1.0    Justin Beiber   \n",
       "1098               1032  2022-05-30         deal         1.0    Justin Beiber   \n",
       "2980               2789  2022-05-30         deal         1.0    Justin Beiber   \n",
       "1413               1325  2022-06-02         deal         3.0        Joe Biden   \n",
       "\n",
       "      duplicate_client_account_id  \n",
       "1725                            0  \n",
       "2537                            0  \n",
       "1084                            0  \n",
       "2634                            0  \n",
       "1955                            0  \n",
       "...                           ...  \n",
       "842                             0  \n",
       "493                             1  \n",
       "1098                            1  \n",
       "2980                            1  \n",
       "1413                            1  \n",
       "\n",
       "[130 rows x 6 columns]"
      ]
     },
     "execution_count": 417,
     "metadata": {},
     "output_type": "execute_result"
    }
   ],
   "source": [
    "# Sort by date\n",
    "sorted_by_date = df_managers_clints.sort_values(['date'])\n",
    "sorted_by_date"
   ]
  },
  {
   "cell_type": "code",
   "execution_count": 418,
   "id": "5ebafe6e",
   "metadata": {
    "scrolled": true
   },
   "outputs": [
    {
     "data": {
      "text/html": [
       "<div>\n",
       "<style scoped>\n",
       "    .dataframe tbody tr th:only-of-type {\n",
       "        vertical-align: middle;\n",
       "    }\n",
       "\n",
       "    .dataframe tbody tr th {\n",
       "        vertical-align: top;\n",
       "    }\n",
       "\n",
       "    .dataframe thead th {\n",
       "        text-align: right;\n",
       "    }\n",
       "</style>\n",
       "<table border=\"1\" class=\"dataframe\">\n",
       "  <thead>\n",
       "    <tr style=\"text-align: right;\">\n",
       "      <th>event_name</th>\n",
       "      <th>deal</th>\n",
       "      <th>first_touch</th>\n",
       "    </tr>\n",
       "    <tr>\n",
       "      <th>client_account_id</th>\n",
       "      <th></th>\n",
       "      <th></th>\n",
       "    </tr>\n",
       "  </thead>\n",
       "  <tbody>\n",
       "    <tr>\n",
       "      <th>136</th>\n",
       "      <td>2022-04-29</td>\n",
       "      <td>2022-03-09</td>\n",
       "    </tr>\n",
       "    <tr>\n",
       "      <th>176</th>\n",
       "      <td>2021-09-04</td>\n",
       "      <td>2021-08-31</td>\n",
       "    </tr>\n",
       "    <tr>\n",
       "      <th>220</th>\n",
       "      <td>2022-04-14</td>\n",
       "      <td>2022-03-04</td>\n",
       "    </tr>\n",
       "    <tr>\n",
       "      <th>259</th>\n",
       "      <td>2022-03-09</td>\n",
       "      <td>2022-05-15</td>\n",
       "    </tr>\n",
       "    <tr>\n",
       "      <th>315</th>\n",
       "      <td>2022-04-11</td>\n",
       "      <td>2022-03-18</td>\n",
       "    </tr>\n",
       "    <tr>\n",
       "      <th>...</th>\n",
       "      <td>...</td>\n",
       "      <td>...</td>\n",
       "    </tr>\n",
       "    <tr>\n",
       "      <th>2738</th>\n",
       "      <td>2022-04-18</td>\n",
       "      <td>2021-08-07</td>\n",
       "    </tr>\n",
       "    <tr>\n",
       "      <th>2751</th>\n",
       "      <td>2022-04-04</td>\n",
       "      <td>2021-12-29</td>\n",
       "    </tr>\n",
       "    <tr>\n",
       "      <th>2781</th>\n",
       "      <td>2021-12-25</td>\n",
       "      <td>2022-01-17</td>\n",
       "    </tr>\n",
       "    <tr>\n",
       "      <th>2789</th>\n",
       "      <td>2022-05-30</td>\n",
       "      <td>2022-03-31</td>\n",
       "    </tr>\n",
       "    <tr>\n",
       "      <th>2849</th>\n",
       "      <td>2022-01-03</td>\n",
       "      <td>2022-04-02</td>\n",
       "    </tr>\n",
       "  </tbody>\n",
       "</table>\n",
       "<p>65 rows × 2 columns</p>\n",
       "</div>"
      ],
      "text/plain": [
       "event_name               deal first_touch\n",
       "client_account_id                        \n",
       "136                2022-04-29  2022-03-09\n",
       "176                2021-09-04  2021-08-31\n",
       "220                2022-04-14  2022-03-04\n",
       "259                2022-03-09  2022-05-15\n",
       "315                2022-04-11  2022-03-18\n",
       "...                       ...         ...\n",
       "2738               2022-04-18  2021-08-07\n",
       "2751               2022-04-04  2021-12-29\n",
       "2781               2021-12-25  2022-01-17\n",
       "2789               2022-05-30  2022-03-31\n",
       "2849               2022-01-03  2022-04-02\n",
       "\n",
       "[65 rows x 2 columns]"
      ]
     },
     "execution_count": 418,
     "metadata": {},
     "output_type": "execute_result"
    }
   ],
   "source": [
    "# Create pivot table\n",
    "correct_date_order = sorted_by_date.pivot(index=[\"client_account_id\"], columns=[\"event_name\"], values='date')\n",
    "correct_date_order"
   ]
  },
  {
   "cell_type": "code",
   "execution_count": 419,
   "id": "e748dd97",
   "metadata": {},
   "outputs": [
    {
     "data": {
      "text/html": [
       "<div>\n",
       "<style scoped>\n",
       "    .dataframe tbody tr th:only-of-type {\n",
       "        vertical-align: middle;\n",
       "    }\n",
       "\n",
       "    .dataframe tbody tr th {\n",
       "        vertical-align: top;\n",
       "    }\n",
       "\n",
       "    .dataframe thead th {\n",
       "        text-align: right;\n",
       "    }\n",
       "</style>\n",
       "<table border=\"1\" class=\"dataframe\">\n",
       "  <thead>\n",
       "    <tr style=\"text-align: right;\">\n",
       "      <th>event_name</th>\n",
       "      <th>deal</th>\n",
       "      <th>first_touch</th>\n",
       "    </tr>\n",
       "    <tr>\n",
       "      <th>client_account_id</th>\n",
       "      <th></th>\n",
       "      <th></th>\n",
       "    </tr>\n",
       "  </thead>\n",
       "  <tbody>\n",
       "    <tr>\n",
       "      <th>136</th>\n",
       "      <td>2022-04-29</td>\n",
       "      <td>2022-03-09</td>\n",
       "    </tr>\n",
       "    <tr>\n",
       "      <th>176</th>\n",
       "      <td>2021-09-04</td>\n",
       "      <td>2021-08-31</td>\n",
       "    </tr>\n",
       "    <tr>\n",
       "      <th>220</th>\n",
       "      <td>2022-04-14</td>\n",
       "      <td>2022-03-04</td>\n",
       "    </tr>\n",
       "    <tr>\n",
       "      <th>315</th>\n",
       "      <td>2022-04-11</td>\n",
       "      <td>2022-03-18</td>\n",
       "    </tr>\n",
       "    <tr>\n",
       "      <th>330</th>\n",
       "      <td>2021-10-29</td>\n",
       "      <td>2021-07-11</td>\n",
       "    </tr>\n",
       "    <tr>\n",
       "      <th>343</th>\n",
       "      <td>2022-04-04</td>\n",
       "      <td>2022-02-17</td>\n",
       "    </tr>\n",
       "    <tr>\n",
       "      <th>467</th>\n",
       "      <td>2022-05-27</td>\n",
       "      <td>2022-03-28</td>\n",
       "    </tr>\n",
       "    <tr>\n",
       "      <th>500</th>\n",
       "      <td>2022-03-09</td>\n",
       "      <td>2021-08-01</td>\n",
       "    </tr>\n",
       "    <tr>\n",
       "      <th>578</th>\n",
       "      <td>2022-02-26</td>\n",
       "      <td>2021-11-03</td>\n",
       "    </tr>\n",
       "    <tr>\n",
       "      <th>595</th>\n",
       "      <td>2022-04-23</td>\n",
       "      <td>2022-04-21</td>\n",
       "    </tr>\n",
       "    <tr>\n",
       "      <th>680</th>\n",
       "      <td>2022-04-22</td>\n",
       "      <td>2021-10-26</td>\n",
       "    </tr>\n",
       "    <tr>\n",
       "      <th>803</th>\n",
       "      <td>2022-04-09</td>\n",
       "      <td>2022-03-07</td>\n",
       "    </tr>\n",
       "    <tr>\n",
       "      <th>972</th>\n",
       "      <td>2022-04-19</td>\n",
       "      <td>2021-12-01</td>\n",
       "    </tr>\n",
       "    <tr>\n",
       "      <th>977</th>\n",
       "      <td>2022-05-24</td>\n",
       "      <td>2022-01-29</td>\n",
       "    </tr>\n",
       "    <tr>\n",
       "      <th>1021</th>\n",
       "      <td>2022-05-01</td>\n",
       "      <td>2021-06-09</td>\n",
       "    </tr>\n",
       "    <tr>\n",
       "      <th>1032</th>\n",
       "      <td>2022-05-30</td>\n",
       "      <td>2022-05-21</td>\n",
       "    </tr>\n",
       "    <tr>\n",
       "      <th>1033</th>\n",
       "      <td>2022-01-09</td>\n",
       "      <td>2021-09-29</td>\n",
       "    </tr>\n",
       "    <tr>\n",
       "      <th>1037</th>\n",
       "      <td>2022-01-13</td>\n",
       "      <td>2021-12-31</td>\n",
       "    </tr>\n",
       "    <tr>\n",
       "      <th>1106</th>\n",
       "      <td>2022-04-12</td>\n",
       "      <td>2022-02-19</td>\n",
       "    </tr>\n",
       "    <tr>\n",
       "      <th>1197</th>\n",
       "      <td>2022-04-20</td>\n",
       "      <td>2021-09-23</td>\n",
       "    </tr>\n",
       "    <tr>\n",
       "      <th>1325</th>\n",
       "      <td>2022-06-02</td>\n",
       "      <td>2022-01-18</td>\n",
       "    </tr>\n",
       "    <tr>\n",
       "      <th>1329</th>\n",
       "      <td>2022-02-23</td>\n",
       "      <td>2021-08-31</td>\n",
       "    </tr>\n",
       "    <tr>\n",
       "      <th>1408</th>\n",
       "      <td>2022-01-26</td>\n",
       "      <td>2021-12-01</td>\n",
       "    </tr>\n",
       "    <tr>\n",
       "      <th>1617</th>\n",
       "      <td>2022-03-21</td>\n",
       "      <td>2021-05-23</td>\n",
       "    </tr>\n",
       "    <tr>\n",
       "      <th>1841</th>\n",
       "      <td>2022-05-15</td>\n",
       "      <td>2021-06-28</td>\n",
       "    </tr>\n",
       "    <tr>\n",
       "      <th>1854</th>\n",
       "      <td>2022-04-07</td>\n",
       "      <td>2022-02-19</td>\n",
       "    </tr>\n",
       "    <tr>\n",
       "      <th>1905</th>\n",
       "      <td>2022-05-12</td>\n",
       "      <td>2021-12-08</td>\n",
       "    </tr>\n",
       "    <tr>\n",
       "      <th>1980</th>\n",
       "      <td>2022-03-26</td>\n",
       "      <td>2021-10-13</td>\n",
       "    </tr>\n",
       "    <tr>\n",
       "      <th>2007</th>\n",
       "      <td>2022-03-28</td>\n",
       "      <td>2021-10-05</td>\n",
       "    </tr>\n",
       "    <tr>\n",
       "      <th>2167</th>\n",
       "      <td>2022-03-24</td>\n",
       "      <td>2021-10-12</td>\n",
       "    </tr>\n",
       "    <tr>\n",
       "      <th>2368</th>\n",
       "      <td>2021-12-20</td>\n",
       "      <td>2021-10-31</td>\n",
       "    </tr>\n",
       "    <tr>\n",
       "      <th>2386</th>\n",
       "      <td>2021-08-30</td>\n",
       "      <td>2021-06-07</td>\n",
       "    </tr>\n",
       "    <tr>\n",
       "      <th>2390</th>\n",
       "      <td>2021-10-13</td>\n",
       "      <td>2021-07-02</td>\n",
       "    </tr>\n",
       "    <tr>\n",
       "      <th>2393</th>\n",
       "      <td>2022-03-22</td>\n",
       "      <td>2021-12-30</td>\n",
       "    </tr>\n",
       "    <tr>\n",
       "      <th>2464</th>\n",
       "      <td>2022-03-25</td>\n",
       "      <td>2022-03-22</td>\n",
       "    </tr>\n",
       "    <tr>\n",
       "      <th>2474</th>\n",
       "      <td>2022-01-02</td>\n",
       "      <td>2021-06-12</td>\n",
       "    </tr>\n",
       "    <tr>\n",
       "      <th>2491</th>\n",
       "      <td>2021-12-30</td>\n",
       "      <td>2021-11-29</td>\n",
       "    </tr>\n",
       "    <tr>\n",
       "      <th>2523</th>\n",
       "      <td>2022-01-28</td>\n",
       "      <td>2021-09-25</td>\n",
       "    </tr>\n",
       "    <tr>\n",
       "      <th>2609</th>\n",
       "      <td>2022-03-21</td>\n",
       "      <td>2021-11-21</td>\n",
       "    </tr>\n",
       "    <tr>\n",
       "      <th>2657</th>\n",
       "      <td>2022-03-14</td>\n",
       "      <td>2021-12-02</td>\n",
       "    </tr>\n",
       "    <tr>\n",
       "      <th>2738</th>\n",
       "      <td>2022-04-18</td>\n",
       "      <td>2021-08-07</td>\n",
       "    </tr>\n",
       "    <tr>\n",
       "      <th>2751</th>\n",
       "      <td>2022-04-04</td>\n",
       "      <td>2021-12-29</td>\n",
       "    </tr>\n",
       "    <tr>\n",
       "      <th>2789</th>\n",
       "      <td>2022-05-30</td>\n",
       "      <td>2022-03-31</td>\n",
       "    </tr>\n",
       "  </tbody>\n",
       "</table>\n",
       "</div>"
      ],
      "text/plain": [
       "event_name               deal first_touch\n",
       "client_account_id                        \n",
       "136                2022-04-29  2022-03-09\n",
       "176                2021-09-04  2021-08-31\n",
       "220                2022-04-14  2022-03-04\n",
       "315                2022-04-11  2022-03-18\n",
       "330                2021-10-29  2021-07-11\n",
       "343                2022-04-04  2022-02-17\n",
       "467                2022-05-27  2022-03-28\n",
       "500                2022-03-09  2021-08-01\n",
       "578                2022-02-26  2021-11-03\n",
       "595                2022-04-23  2022-04-21\n",
       "680                2022-04-22  2021-10-26\n",
       "803                2022-04-09  2022-03-07\n",
       "972                2022-04-19  2021-12-01\n",
       "977                2022-05-24  2022-01-29\n",
       "1021               2022-05-01  2021-06-09\n",
       "1032               2022-05-30  2022-05-21\n",
       "1033               2022-01-09  2021-09-29\n",
       "1037               2022-01-13  2021-12-31\n",
       "1106               2022-04-12  2022-02-19\n",
       "1197               2022-04-20  2021-09-23\n",
       "1325               2022-06-02  2022-01-18\n",
       "1329               2022-02-23  2021-08-31\n",
       "1408               2022-01-26  2021-12-01\n",
       "1617               2022-03-21  2021-05-23\n",
       "1841               2022-05-15  2021-06-28\n",
       "1854               2022-04-07  2022-02-19\n",
       "1905               2022-05-12  2021-12-08\n",
       "1980               2022-03-26  2021-10-13\n",
       "2007               2022-03-28  2021-10-05\n",
       "2167               2022-03-24  2021-10-12\n",
       "2368               2021-12-20  2021-10-31\n",
       "2386               2021-08-30  2021-06-07\n",
       "2390               2021-10-13  2021-07-02\n",
       "2393               2022-03-22  2021-12-30\n",
       "2464               2022-03-25  2022-03-22\n",
       "2474               2022-01-02  2021-06-12\n",
       "2491               2021-12-30  2021-11-29\n",
       "2523               2022-01-28  2021-09-25\n",
       "2609               2022-03-21  2021-11-21\n",
       "2657               2022-03-14  2021-12-02\n",
       "2738               2022-04-18  2021-08-07\n",
       "2751               2022-04-04  2021-12-29\n",
       "2789               2022-05-30  2022-03-31"
      ]
     },
     "execution_count": 419,
     "metadata": {},
     "output_type": "execute_result"
    }
   ],
   "source": [
    "# Let's select the client_account_id with managers whose first first_touch, \n",
    "# and then deal (this is exactly the conversion we are looking for)\n",
    "correct_date_order[correct_date_order['deal'] > correct_date_order['first_touch']]"
   ]
  },
  {
   "cell_type": "code",
   "execution_count": 420,
   "id": "538ff5fe",
   "metadata": {},
   "outputs": [],
   "source": [
    "# Wrap the indexes (client_account_id) in a list for further work\n",
    "correct_date_order_list = list(correct_date_order[correct_date_order['deal'] > correct_date_order['first_touch']].index.values)"
   ]
  },
  {
   "cell_type": "code",
   "execution_count": 421,
   "id": "1f12cf34",
   "metadata": {
    "scrolled": true
   },
   "outputs": [
    {
     "data": {
      "text/html": [
       "<div>\n",
       "<style scoped>\n",
       "    .dataframe tbody tr th:only-of-type {\n",
       "        vertical-align: middle;\n",
       "    }\n",
       "\n",
       "    .dataframe tbody tr th {\n",
       "        vertical-align: top;\n",
       "    }\n",
       "\n",
       "    .dataframe thead th {\n",
       "        text-align: right;\n",
       "    }\n",
       "</style>\n",
       "<table border=\"1\" class=\"dataframe\">\n",
       "  <thead>\n",
       "    <tr style=\"text-align: right;\">\n",
       "      <th></th>\n",
       "      <th>client_account_id</th>\n",
       "      <th>date</th>\n",
       "      <th>event_name</th>\n",
       "      <th>manager_id</th>\n",
       "      <th>manager_nickname</th>\n",
       "      <th>duplicate_client_account_id</th>\n",
       "    </tr>\n",
       "  </thead>\n",
       "  <tbody>\n",
       "    <tr>\n",
       "      <th>143</th>\n",
       "      <td>136</td>\n",
       "      <td>2022-03-09</td>\n",
       "      <td>first_touch</td>\n",
       "      <td>1.0</td>\n",
       "      <td>Justin Beiber</td>\n",
       "      <td>0</td>\n",
       "    </tr>\n",
       "    <tr>\n",
       "      <th>144</th>\n",
       "      <td>136</td>\n",
       "      <td>2022-04-29</td>\n",
       "      <td>deal</td>\n",
       "      <td>1.0</td>\n",
       "      <td>Justin Beiber</td>\n",
       "      <td>1</td>\n",
       "    </tr>\n",
       "    <tr>\n",
       "      <th>186</th>\n",
       "      <td>176</td>\n",
       "      <td>2021-08-31</td>\n",
       "      <td>first_touch</td>\n",
       "      <td>3.0</td>\n",
       "      <td>Joe Biden</td>\n",
       "      <td>0</td>\n",
       "    </tr>\n",
       "    <tr>\n",
       "      <th>187</th>\n",
       "      <td>176</td>\n",
       "      <td>2021-09-04</td>\n",
       "      <td>deal</td>\n",
       "      <td>3.0</td>\n",
       "      <td>Joe Biden</td>\n",
       "      <td>1</td>\n",
       "    </tr>\n",
       "    <tr>\n",
       "      <th>233</th>\n",
       "      <td>220</td>\n",
       "      <td>2022-03-04</td>\n",
       "      <td>first_touch</td>\n",
       "      <td>2.0</td>\n",
       "      <td>Kylie Jenner</td>\n",
       "      <td>0</td>\n",
       "    </tr>\n",
       "    <tr>\n",
       "      <th>...</th>\n",
       "      <td>...</td>\n",
       "      <td>...</td>\n",
       "      <td>...</td>\n",
       "      <td>...</td>\n",
       "      <td>...</td>\n",
       "      <td>...</td>\n",
       "    </tr>\n",
       "    <tr>\n",
       "      <th>2924</th>\n",
       "      <td>2738</td>\n",
       "      <td>2022-04-18</td>\n",
       "      <td>deal</td>\n",
       "      <td>3.0</td>\n",
       "      <td>Joe Biden</td>\n",
       "      <td>1</td>\n",
       "    </tr>\n",
       "    <tr>\n",
       "      <th>2937</th>\n",
       "      <td>2751</td>\n",
       "      <td>2021-12-29</td>\n",
       "      <td>first_touch</td>\n",
       "      <td>3.0</td>\n",
       "      <td>Joe Biden</td>\n",
       "      <td>0</td>\n",
       "    </tr>\n",
       "    <tr>\n",
       "      <th>2938</th>\n",
       "      <td>2751</td>\n",
       "      <td>2022-04-04</td>\n",
       "      <td>deal</td>\n",
       "      <td>3.0</td>\n",
       "      <td>Joe Biden</td>\n",
       "      <td>1</td>\n",
       "    </tr>\n",
       "    <tr>\n",
       "      <th>2979</th>\n",
       "      <td>2789</td>\n",
       "      <td>2022-03-31</td>\n",
       "      <td>first_touch</td>\n",
       "      <td>1.0</td>\n",
       "      <td>Justin Beiber</td>\n",
       "      <td>0</td>\n",
       "    </tr>\n",
       "    <tr>\n",
       "      <th>2980</th>\n",
       "      <td>2789</td>\n",
       "      <td>2022-05-30</td>\n",
       "      <td>deal</td>\n",
       "      <td>1.0</td>\n",
       "      <td>Justin Beiber</td>\n",
       "      <td>1</td>\n",
       "    </tr>\n",
       "  </tbody>\n",
       "</table>\n",
       "<p>86 rows × 6 columns</p>\n",
       "</div>"
      ],
      "text/plain": [
       "      client_account_id        date   event_name  manager_id manager_nickname  \\\n",
       "143                 136  2022-03-09  first_touch         1.0    Justin Beiber   \n",
       "144                 136  2022-04-29         deal         1.0    Justin Beiber   \n",
       "186                 176  2021-08-31  first_touch         3.0        Joe Biden   \n",
       "187                 176  2021-09-04         deal         3.0        Joe Biden   \n",
       "233                 220  2022-03-04  first_touch         2.0     Kylie Jenner   \n",
       "...                 ...         ...          ...         ...              ...   \n",
       "2924               2738  2022-04-18         deal         3.0        Joe Biden   \n",
       "2937               2751  2021-12-29  first_touch         3.0        Joe Biden   \n",
       "2938               2751  2022-04-04         deal         3.0        Joe Biden   \n",
       "2979               2789  2022-03-31  first_touch         1.0    Justin Beiber   \n",
       "2980               2789  2022-05-30         deal         1.0    Justin Beiber   \n",
       "\n",
       "      duplicate_client_account_id  \n",
       "143                             0  \n",
       "144                             1  \n",
       "186                             0  \n",
       "187                             1  \n",
       "233                             0  \n",
       "...                           ...  \n",
       "2924                            1  \n",
       "2937                            0  \n",
       "2938                            1  \n",
       "2979                            0  \n",
       "2980                            1  \n",
       "\n",
       "[86 rows x 6 columns]"
      ]
     },
     "execution_count": 421,
     "metadata": {},
     "output_type": "execute_result"
    }
   ],
   "source": [
    "# Table for correct calculation of the number of deals for each manager\n",
    "managers_correct_date_order = df[df['client_account_id'].isin(correct_date_order_list)]\n",
    "managers_correct_date_order"
   ]
  },
  {
   "cell_type": "code",
   "execution_count": 422,
   "id": "31389f1e",
   "metadata": {},
   "outputs": [
    {
     "data": {
      "text/plain": [
       "23"
      ]
     },
     "execution_count": 422,
     "metadata": {},
     "output_type": "execute_result"
    }
   ],
   "source": [
    "# Correct calculation of the number of deal events for manager Joe Biden\n",
    "correct_count_deal_joe_biden = managers_correct_date_order['event_name'][(managers_correct_date_order['manager_nickname']=='Joe Biden') & (managers_correct_date_order['event_name']=='deal')].count()\n",
    "correct_count_deal_joe_biden"
   ]
  },
  {
   "cell_type": "code",
   "execution_count": 423,
   "id": "04a822ce",
   "metadata": {},
   "outputs": [
    {
     "data": {
      "text/plain": [
       "1158"
      ]
     },
     "execution_count": 423,
     "metadata": {},
     "output_type": "execute_result"
    }
   ],
   "source": [
    "# Counting the number of first touch events for manager Joe Biden\n",
    "count_first_touch_joe_biden = df['event_name'][(df['manager_nickname']=='Joe Biden') & (df['event_name']=='first_touch')].count()\n",
    "count_first_touch_joe_biden"
   ]
  },
  {
   "cell_type": "code",
   "execution_count": 431,
   "id": "5a681477",
   "metadata": {},
   "outputs": [
    {
     "data": {
      "text/plain": [
       "1.99"
      ]
     },
     "execution_count": 431,
     "metadata": {},
     "output_type": "execute_result"
    }
   ],
   "source": [
    "# Correct conversion for manager Joe Biden\n",
    "correct_conversion_joe_biden = ((correct_count_deal_joe_biden / count_first_touch_joe_biden)*100).round(2)\n",
    "correct_conversion_joe_biden"
   ]
  },
  {
   "cell_type": "code",
   "execution_count": 425,
   "id": "1d9c4dd8",
   "metadata": {},
   "outputs": [
    {
     "data": {
      "text/plain": [
       "12"
      ]
     },
     "execution_count": 425,
     "metadata": {},
     "output_type": "execute_result"
    }
   ],
   "source": [
    "# Correct calculation of the number of deal events for manager Kylie Jenner\n",
    "correct_count_deal_kylie_jenner = managers_correct_date_order['event_name'][(managers_correct_date_order['manager_nickname']=='Kylie Jenner') & (managers_correct_date_order['event_name']=='deal')].count()\n",
    "correct_count_deal_kylie_jenner"
   ]
  },
  {
   "cell_type": "code",
   "execution_count": 426,
   "id": "3150f026",
   "metadata": {},
   "outputs": [
    {
     "data": {
      "text/plain": [
       "939"
      ]
     },
     "execution_count": 426,
     "metadata": {},
     "output_type": "execute_result"
    }
   ],
   "source": [
    "# Counting the number of first touch events for manager Kylie Jenner\n",
    "count_first_touch_kylie_jenner = df['event_name'][(df['manager_nickname']=='Kylie Jenner') & (df['event_name']=='first_touch')].count()\n",
    "count_first_touch_kylie_jenner"
   ]
  },
  {
   "cell_type": "code",
   "execution_count": 432,
   "id": "4c774717",
   "metadata": {},
   "outputs": [
    {
     "data": {
      "text/plain": [
       "1.28"
      ]
     },
     "execution_count": 432,
     "metadata": {},
     "output_type": "execute_result"
    }
   ],
   "source": [
    "# Correct conversion for manager Kylie Jenner\n",
    "correct_conversion_kylie_jenner = ((correct_count_deal_kylie_jenner / count_first_touch_kylie_jenner)*100).round(2)\n",
    "correct_conversion_kylie_jenner"
   ]
  },
  {
   "cell_type": "code",
   "execution_count": 428,
   "id": "7beacc24",
   "metadata": {},
   "outputs": [
    {
     "data": {
      "text/plain": [
       "8"
      ]
     },
     "execution_count": 428,
     "metadata": {},
     "output_type": "execute_result"
    }
   ],
   "source": [
    "# Correct calculation of the number of deal events for manager Justin Beiber\n",
    "correct_count_deal_justin_beiber = managers_correct_date_order['event_name'][(managers_correct_date_order['manager_nickname']=='Justin Beiber') & (managers_correct_date_order['event_name']=='deal')].count()\n",
    "correct_count_deal_justin_beiber"
   ]
  },
  {
   "cell_type": "code",
   "execution_count": 429,
   "id": "4a21a904",
   "metadata": {},
   "outputs": [
    {
     "data": {
      "text/plain": [
       "890"
      ]
     },
     "execution_count": 429,
     "metadata": {},
     "output_type": "execute_result"
    }
   ],
   "source": [
    "# Counting the number of first touch events for manager Justin Beiber\n",
    "count_first_touch_justin_beiber = df['event_name'][(df['manager_nickname']=='Justin Beiber') & (df['event_name']=='first_touch')].count()\n",
    "count_first_touch_justin_beiber"
   ]
  },
  {
   "cell_type": "code",
   "execution_count": 434,
   "id": "d2ed8dbb",
   "metadata": {},
   "outputs": [
    {
     "data": {
      "text/plain": [
       "0.9"
      ]
     },
     "execution_count": 434,
     "metadata": {},
     "output_type": "execute_result"
    }
   ],
   "source": [
    "# Correct conversion for manager Justin Beiber\n",
    "correct_conversion_justin_beiber = ((correct_count_deal_justin_beiber / count_first_touch_justin_beiber)*100).round(2)\n",
    "correct_conversion_justin_beiber"
   ]
  },
  {
   "cell_type": "code",
   "execution_count": 445,
   "id": "33933f43",
   "metadata": {
    "scrolled": true
   },
   "outputs": [
    {
     "data": {
      "image/png": "[encoded data removed]",
      "text/plain": [
       "<Figure size 432x288 with 1 Axes>"
      ]
     },
     "metadata": {},
     "output_type": "display_data"
    }
   ],
   "source": [
    "x = ['Kylie Jenner', 'Joe Biden', 'Justin Beiber']\n",
    "y = [correct_conversion_kylie_jenner, correct_conversion_joe_biden, correct_conversion_justin_beiber]\n",
    "\n",
    "fig, ax = plt.subplots()\n",
    "\n",
    "ax.bar(x, y)\n",
    "\n",
    "ax.set_facecolor('seashell')\n",
    "fig.set_facecolor('floralwhite')\n",
    "fig.set_figwidth(6)    \n",
    "fig.set_figheight(4)    \n",
    "\n",
    "plt.show()"
   ]
  },
  {
   "cell_type": "markdown",
   "id": "222e8f04",
   "metadata": {},
   "source": [
    "Conclusion: Joe Biden has the highest conversion, it is equal to 1.99%"
   ]
  }
 ],
 "metadata": {
  "kernelspec": {
   "display_name": "Python 3 (ipykernel)",
   "language": "python",
   "name": "python3"
  },
  "language_info": {
   "codemirror_mode": {
    "name": "ipython",
    "version": 3
   },
   "file_extension": ".py",
   "mimetype": "text/x-python",
   "name": "python",
   "nbconvert_exporter": "python",
   "pygments_lexer": "ipython3",
   "version": "3.9.12"
  },
  "vscode": {
   "interpreter": {
    "hash": "1ac3c7b94264dc201e05d19e592a5e88dd1bed54482bd68cddd08f8c5261ba18"
   }
  }
 },
 "nbformat": 4,
 "nbformat_minor": 5
}
