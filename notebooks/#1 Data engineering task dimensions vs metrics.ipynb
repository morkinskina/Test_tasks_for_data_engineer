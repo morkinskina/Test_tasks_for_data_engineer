{
 "cells": [
  {
   "cell_type": "markdown",
   "id": "7636f443",
   "metadata": {},
   "source": [
    "# Dimensions vs metrics"
   ]
  },
  {
   "cell_type": "markdown",
   "id": "133f12af",
   "metadata": {},
   "source": [
    "We need an estimation for a question: what part of the fields are metrics?"
   ]
  },
  {
   "cell_type": "code",
   "execution_count": 2,
   "id": "36e5cbdf",
   "metadata": {},
   "outputs": [],
   "source": [
    "import numpy as np\n",
    "import pandas as pd"
   ]
  },
  {
   "cell_type": "markdown",
   "id": "b5696a8a",
   "metadata": {},
   "source": [
    "I'll try to calculate parte of the fields that are metrics based on the task given to me."
   ]
  },
  {
   "cell_type": "code",
   "execution_count": 3,
   "id": "12e68a3e",
   "metadata": {},
   "outputs": [
    {
     "data": {
      "text/html": [
       "<div>\n",
       "<style scoped>\n",
       "    .dataframe tbody tr th:only-of-type {\n",
       "        vertical-align: middle;\n",
       "    }\n",
       "\n",
       "    .dataframe tbody tr th {\n",
       "        vertical-align: top;\n",
       "    }\n",
       "\n",
       "    .dataframe thead th {\n",
       "        text-align: right;\n",
       "    }\n",
       "</style>\n",
       "<table border=\"1\" class=\"dataframe\">\n",
       "  <thead>\n",
       "    <tr style=\"text-align: right;\">\n",
       "      <th></th>\n",
       "      <th>data_source_title</th>\n",
       "      <th>report_type_title</th>\n",
       "      <th>field_title</th>\n",
       "      <th>sql_field_name</th>\n",
       "      <th>api_field_name</th>\n",
       "    </tr>\n",
       "  </thead>\n",
       "  <tbody>\n",
       "    <tr>\n",
       "      <th>0</th>\n",
       "      <td>ACME</td>\n",
       "      <td>Transactions</td>\n",
       "      <td>Payment Status</td>\n",
       "      <td>payment_status</td>\n",
       "      <td>PaymentStatus</td>\n",
       "    </tr>\n",
       "    <tr>\n",
       "      <th>1</th>\n",
       "      <td>ACME</td>\n",
       "      <td>Transactions</td>\n",
       "      <td>Payment Method</td>\n",
       "      <td>payment_method</td>\n",
       "      <td>PaymentMethod</td>\n",
       "    </tr>\n",
       "    <tr>\n",
       "      <th>2</th>\n",
       "      <td>ACME</td>\n",
       "      <td>Transactions</td>\n",
       "      <td>Payment Due Date</td>\n",
       "      <td>payment_due_date</td>\n",
       "      <td>PaymentDueDate</td>\n",
       "    </tr>\n",
       "    <tr>\n",
       "      <th>3</th>\n",
       "      <td>ACME</td>\n",
       "      <td>Transactions</td>\n",
       "      <td>Parent Transaction Id</td>\n",
       "      <td>parent_transaction_id</td>\n",
       "      <td>ParentTransactionId</td>\n",
       "    </tr>\n",
       "    <tr>\n",
       "      <th>4</th>\n",
       "      <td>ACME</td>\n",
       "      <td>Transactions</td>\n",
       "      <td>OrderItem Type</td>\n",
       "      <td>orderitem_type</td>\n",
       "      <td>OrderItemType</td>\n",
       "    </tr>\n",
       "  </tbody>\n",
       "</table>\n",
       "</div>"
      ],
      "text/plain": [
       "  data_source_title report_type_title            field_title  \\\n",
       "0              ACME      Transactions         Payment Status   \n",
       "1              ACME      Transactions         Payment Method   \n",
       "2              ACME      Transactions       Payment Due Date   \n",
       "3              ACME      Transactions  Parent Transaction Id   \n",
       "4              ACME      Transactions         OrderItem Type   \n",
       "\n",
       "          sql_field_name       api_field_name  \n",
       "0         payment_status        PaymentStatus  \n",
       "1         payment_method        PaymentMethod  \n",
       "2       payment_due_date       PaymentDueDate  \n",
       "3  parent_transaction_id  ParentTransactionId  \n",
       "4         orderitem_type        OrderItemType  "
      ]
     },
     "metadata": {},
     "output_type": "display_data"
    },
    {
     "name": "stdout",
     "output_type": "stream",
     "text": [
      "(31095, 5)\n"
     ]
    }
   ],
   "source": [
    "df = pd.read_csv('../data/Data_Dictionary_for_CSV_2022_10_10.csv')\n",
    "display(df.head())\n",
    "print(df.shape)"
   ]
  },
  {
   "cell_type": "code",
   "execution_count": 4,
   "id": "03354e0c",
   "metadata": {},
   "outputs": [
    {
     "name": "stdout",
     "output_type": "stream",
     "text": [
      "<class 'pandas.core.frame.DataFrame'>\n",
      "RangeIndex: 31095 entries, 0 to 31094\n",
      "Data columns (total 5 columns):\n",
      " #   Column             Non-Null Count  Dtype \n",
      "---  ------             --------------  ----- \n",
      " 0   data_source_title  31095 non-null  object\n",
      " 1   report_type_title  31095 non-null  object\n",
      " 2   field_title        31095 non-null  object\n",
      " 3   sql_field_name     31095 non-null  object\n",
      " 4   api_field_name     31095 non-null  object\n",
      "dtypes: object(5)\n",
      "memory usage: 1.2+ MB\n"
     ]
    }
   ],
   "source": [
    "# Let's see if there are any gaps in our date frame.\n",
    "df.info()"
   ]
  },
  {
   "cell_type": "code",
   "execution_count": 5,
   "id": "2a5c8876",
   "metadata": {},
   "outputs": [
    {
     "data": {
      "text/html": [
       "<div>\n",
       "<style scoped>\n",
       "    .dataframe tbody tr th:only-of-type {\n",
       "        vertical-align: middle;\n",
       "    }\n",
       "\n",
       "    .dataframe tbody tr th {\n",
       "        vertical-align: top;\n",
       "    }\n",
       "\n",
       "    .dataframe thead th {\n",
       "        text-align: right;\n",
       "    }\n",
       "</style>\n",
       "<table border=\"1\" class=\"dataframe\">\n",
       "  <thead>\n",
       "    <tr style=\"text-align: right;\">\n",
       "      <th></th>\n",
       "      <th>data_source_title</th>\n",
       "      <th>report_type_title</th>\n",
       "      <th>field_title</th>\n",
       "      <th>sql_field_name</th>\n",
       "      <th>api_field_name</th>\n",
       "    </tr>\n",
       "  </thead>\n",
       "  <tbody>\n",
       "    <tr>\n",
       "      <th>count</th>\n",
       "      <td>31095</td>\n",
       "      <td>31095</td>\n",
       "      <td>31095</td>\n",
       "      <td>31095</td>\n",
       "      <td>31095</td>\n",
       "    </tr>\n",
       "    <tr>\n",
       "      <th>unique</th>\n",
       "      <td>179</td>\n",
       "      <td>948</td>\n",
       "      <td>9414</td>\n",
       "      <td>8830</td>\n",
       "      <td>9500</td>\n",
       "    </tr>\n",
       "    <tr>\n",
       "      <th>top</th>\n",
       "      <td>Facebook</td>\n",
       "      <td>All Fields</td>\n",
       "      <td>Clicks</td>\n",
       "      <td>campaign_id</td>\n",
       "      <td>???</td>\n",
       "    </tr>\n",
       "    <tr>\n",
       "      <th>freq</th>\n",
       "      <td>5171</td>\n",
       "      <td>1084</td>\n",
       "      <td>420</td>\n",
       "      <td>596</td>\n",
       "      <td>810</td>\n",
       "    </tr>\n",
       "  </tbody>\n",
       "</table>\n",
       "</div>"
      ],
      "text/plain": [
       "       data_source_title report_type_title field_title sql_field_name  \\\n",
       "count              31095             31095       31095          31095   \n",
       "unique               179               948        9414           8830   \n",
       "top             Facebook        All Fields      Clicks    campaign_id   \n",
       "freq                5171              1084         420            596   \n",
       "\n",
       "       api_field_name  \n",
       "count           31095  \n",
       "unique           9500  \n",
       "top               ???  \n",
       "freq              810  "
      ]
     },
     "execution_count": 5,
     "metadata": {},
     "output_type": "execute_result"
    }
   ],
   "source": [
    "# How many unique values in columns.\n",
    "df.describe()"
   ]
  },
  {
   "cell_type": "code",
   "execution_count": 6,
   "id": "26ef5852",
   "metadata": {},
   "outputs": [],
   "source": [
    "# As I noticed from the assignment, metrics, unlike dimensions, end with the letter 's'.\n",
    "# Let's mark these words with units in a new column.\n",
    "df['field_title_metrics_1'] = df['field_title'].apply(lambda x: 1 if x[-1]=='s' or x[-2:]=='ed' else 0)"
   ]
  },
  {
   "cell_type": "code",
   "execution_count": 15,
   "id": "13f16574",
   "metadata": {},
   "outputs": [
    {
     "data": {
      "text/plain": [
       "7892"
      ]
     },
     "execution_count": 15,
     "metadata": {},
     "output_type": "execute_result"
    }
   ],
   "source": [
    "# Estimated number of meters in the fields of the field title column.\n",
    "df['field_title_metrics_1'].sum()"
   ]
  },
  {
   "cell_type": "code",
   "execution_count": 8,
   "id": "f029baea",
   "metadata": {},
   "outputs": [],
   "source": [
    "# Converting everything to lowercase\n",
    "df['field_title'] = df['field_title'].str.lower()"
   ]
  },
  {
   "cell_type": "code",
   "execution_count": 9,
   "id": "36b0d53f",
   "metadata": {},
   "outputs": [],
   "source": [
    "# Remove the fields with the word status from the field_title column\n",
    "# because it is not a metric but ends with the letter s.\n",
    "df1 = df[~df['field_title'].isin(['status'])]"
   ]
  },
  {
   "cell_type": "code",
   "execution_count": 10,
   "id": "9ba1432c",
   "metadata": {},
   "outputs": [
    {
     "data": {
      "text/plain": [
       "7834"
      ]
     },
     "execution_count": 10,
     "metadata": {},
     "output_type": "execute_result"
    }
   ],
   "source": [
    "# Number of metrics in a column field_title.\n",
    "df1['field_title_metrics_1'].sum()"
   ]
  },
  {
   "cell_type": "code",
   "execution_count": 14,
   "id": "56bc4daa",
   "metadata": {},
   "outputs": [
    {
     "name": "stdout",
     "output_type": "stream",
     "text": [
      "25\n"
     ]
    }
   ],
   "source": [
    "# Let's calculate the percentage that shows which part of the fields are metrics.\n",
    "metrics_perc = int((df1['field_title_metrics_1'].sum() / df['field_title'].count())*100)\n",
    "print(metrics_perc)"
   ]
  },
  {
   "cell_type": "markdown",
   "id": "d3ee961a",
   "metadata": {},
   "source": [
    "Conclusions: around 25% of fields are metrics."
   ]
  }
 ],
 "metadata": {
  "kernelspec": {
   "display_name": "Python 3 (ipykernel)",
   "language": "python",
   "name": "python3"
  },
  "language_info": {
   "codemirror_mode": {
    "name": "ipython",
    "version": 3
   },
   "file_extension": ".py",
   "mimetype": "text/x-python",
   "name": "python",
   "nbconvert_exporter": "python",
   "pygments_lexer": "ipython3",
   "version": "3.9.12"
  },
  "vscode": {
   "interpreter": {
    "hash": "1ac3c7b94264dc201e05d19e592a5e88dd1bed54482bd68cddd08f8c5261ba18"
   }
  }
 },
 "nbformat": 4,
 "nbformat_minor": 5
}
